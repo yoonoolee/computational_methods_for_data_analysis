{
  "cells": [
    {
      "cell_type": "markdown",
      "metadata": {},
      "source": [
        "<h1>\n",
        "<center>Classifying Politicians</center>\n",
        "</h1>\n",
        "\n",
        "<h1>\n",
        "<center>Avery Lee</center>\n",
        "</h1>"
      ]
    },
    {
      "cell_type": "code",
      "execution_count": 1,
      "metadata": {
        "id": "_1RohtDA2J8n"
      },
      "outputs": [],
      "source": [
        "import numpy as np\n",
        "import matplotlib.pyplot as plt\n",
        "from sklearn.linear_model import LinearRegression\n",
        "import pandas as pd \n",
        "import scipy.spatial \n",
        "# from numpy.core.function_base import linspace"
      ]
    },
    {
      "cell_type": "code",
      "execution_count": 2,
      "metadata": {
        "colab": {
          "base_uri": "https://localhost:8080/"
        },
        "id": "sUIqVmqH2R1A",
        "outputId": "9ac3c65e-1f1d-4d31-80ac-7ec4e52a3e24"
      },
      "outputs": [
        {
          "name": "stdout",
          "output_type": "stream",
          "text": [
            "Drive already mounted at /content/drive; to attempt to forcibly remount, call drive.mount(\"/content/drive\", force_remount=True).\n"
          ]
        }
      ],
      "source": [
        "# if you are using Colab \n",
        "\n",
        "from google.colab import drive\n",
        "drive.mount('/content/drive') "
      ]
    },
    {
      "cell_type": "code",
      "execution_count": 13,
      "metadata": {
        "colab": {
          "base_uri": "https://localhost:8080/"
        },
        "id": "4rb7mDUD2YuZ",
        "outputId": "a9264dc4-0782-4d9a-d650-431577d2e69c"
      },
      "outputs": [
        {
          "name": "stdout",
          "output_type": "stream",
          "text": [
            "435\n"
          ]
        }
      ],
      "source": [
        "# STEP 1: Import and preprocess the dataset\n",
        "path_to_data = '/content/drive/My Drive/Colab Notebooks/house-votes-84.data'\n",
        "\n",
        "data = pd.read_csv(path_to_data, header=None, delimiter=',') # 435x17 (435 members, 1 col for party, 16 bills)\n",
        "y = [-1 if party == 'republican' else 1 for party in data[0]] # republican:-1, democrat:+1 # 435x1\n",
        "X = data.iloc[:,1:].replace('y', 1).replace('n', -1).replace('?', 0) # 435x16\n"
      ]
    },
    {
      "cell_type": "code",
      "execution_count": 8,
      "metadata": {
        "colab": {
          "base_uri": "https://localhost:8080/",
          "height": 309
        },
        "id": "uD_BQXwc-DOb",
        "outputId": "959b5dad-74fd-44c9-dcfb-284e6bf15feb"
      },
      "outputs": [
        {
          "name": "stdout",
          "output_type": "stream",
          "text": [
            "sigma* = 1.17, accuracy = 0.8804597701149426\n"
          ]
        },
        {
          "data": {
            "image/png": "[encoded data removed]",
            "text/plain": [
              "<Figure size 432x288 with 1 Axes>"
            ]
          },
          "metadata": {
            "needs_background": "light"
          },
          "output_type": "display_data"
        }
      ],
      "source": [
        "# STEP 2: SPECTRAL CLUSTERING. Use X and y for validation of clustering algorithm. \n",
        "# Construct the unnormalized graph Laplacian matrix on X. \n",
        "def eta(tt, sigma):\n",
        "  val = np.exp( - (tt**2)/(2*sigma**2) ) \n",
        "  return val.astype(float)\n",
        "\n",
        "def get_accuracy(sigma):\n",
        "  dist = scipy.spatial.distance_matrix(X, X, p=2) # could get expensive if a lot of data \n",
        "\n",
        "  W = eta(dist, sigma) # weights \n",
        "\n",
        "  d = np.sum(W, axis=1) # degree vector\n",
        "  D = np.diag(d)\n",
        "\n",
        "  # unnormalized laplacian \n",
        "  L = D - W \n",
        "  # eigens\n",
        "  ll, VV = np.linalg.eigh(L)\n",
        "  # sort the eigenvalues and vectors \n",
        "  idx = ll.argsort() \n",
        "  l = ll[idx]\n",
        "  V = VV[:, idx]\n",
        "  classifier = np.sign(V[:,1]) # sign of 2nd eigenvector, q1\n",
        "\n",
        "  # Take sign(q) as your classifier and compute its classification \n",
        "  # accuracy after comparison with y. \n",
        "  accuracy = 1 - (np.sum([classifier != y]) / len(y))\n",
        "  if accuracy < 0.5: # adjust for opposite classification \n",
        "    accuracy = 1 - accuracy\n",
        "\n",
        "  return accuracy, V\n",
        "\n",
        "# Change the parameter sigma in the range (0,4] and plot accuracy as a \n",
        "# function of sigma. Let sigma* denote the optimal variance parameter \n",
        "# achieving maximum clustering accuracy. \n",
        "step_size = 0.01\n",
        "sigmas = np.arange(0.1,4,step=step_size).round(2)\n",
        "accuracies = []\n",
        "for sigma in sigmas:\n",
        "  acc, V = get_accuracy(sigma)\n",
        "  accuracies.append(acc)\n",
        "\n",
        "index_max = np.unravel_index(np.argmax(accuracies), len(accuracies))[0]\n",
        "sigma_star = sigmas[index_max]\n",
        "accuracy_star = accuracies[index_max]\n",
        "\n",
        "# plot accuracy \n",
        "fig, ax = plt.subplots()\n",
        "ax.plot(sigmas, accuracies, 'bo', markersize=3)\n",
        "ax.plot(sigma_star, accuracy_star, 'r*', markersize=20)\n",
        "ax.set_xlabel('$\\sigma$', fontsize=20)\n",
        "ax.set_ylabel('Clustering Accuracy', fontsize=20)\n",
        "plt.ylim(top=0.9)\n",
        "\n",
        "print('sigma* = ' + str(sigma_star) + ', accuracy = ' + str(accuracy_star))\n"
      ]
    },
    {
      "cell_type": "code",
      "execution_count": 5,
      "metadata": {
        "colab": {
          "base_uri": "https://localhost:8080/",
          "height": 283
        },
        "id": "WsFJIK8Pnmzn",
        "outputId": "ed98f842-49bf-413f-ff59-3fb7c723260c"
      },
      "outputs": [
        {
          "data": {
            "text/plain": [
              "<matplotlib.collections.PathCollection at 0x7fceb4f5a910>"
            ]
          },
          "execution_count": 5,
          "metadata": {},
          "output_type": "execute_result"
        },
        {
          "data": {
            "image/png": "[encoded data removed]",
            "text/plain": [
              "<Figure size 432x288 with 1 Axes>"
            ]
          },
          "metadata": {
            "needs_background": "light"
          },
          "output_type": "display_data"
        }
      ],
      "source": [
        "# Plot q1\n",
        "acc_star, q1_star = get_accuracy(sigma_star)\n",
        "republicans_idx = [i for i,val in enumerate(y) if val == -1]\n",
        "democrats_idx = [i for i,val in enumerate(y) if val == 1]\n",
        "rep_len = len(republicans_idx)\n",
        "dem_len = len(democrats_idx)\n",
        "fig, ax = plt.subplots()\n",
        "plt.scatter(np.arange(rep_len), q1_star[republicans_idx,1], c='r', s=20)\n",
        "plt.scatter(np.arange(rep_len,rep_len+dem_len), q1_star[democrats_idx,1], c='b', s=20)\n",
        "plt.legend(['Republicans', 'Democrats'])\n"
      ]
    },
    {
      "cell_type": "code",
      "execution_count": 10,
      "metadata": {
        "colab": {
          "base_uri": "https://localhost:8080/"
        },
        "id": "BSkptxpT-DL8",
        "outputId": "a821c99f-ee1a-4a30-8c1a-0e683bf1cf9b"
      },
      "outputs": [
        {
          "name": "stdout",
          "output_type": "stream",
          "text": [
            "         5         10        20        40\n",
            "2  0.889655  0.887356  0.882759  0.880460\n",
            "3  0.887356  0.816092  0.820690  0.836782\n",
            "4  0.839080  0.850575  0.864368  0.875862\n",
            "5  0.868966  0.710345  0.839080  0.880460\n",
            "6  0.868966  0.685057  0.873563  0.864368\n"
          ]
        }
      ],
      "source": [
        "# STEP 3: SEMI-SUPERVISED LEARNING.  \n",
        "def get_SSLLinear_accuracy(M, J, sigma_star):\n",
        "  dist = scipy.spatial.distance_matrix(X, X, p=2) # could get expensive if a lot of data \n",
        "\n",
        "  W = eta(dist, sigma_star) # weights \n",
        "\n",
        "  d = np.sum(W, axis=1) # degree vector\n",
        "  D = np.diag(d)\n",
        "  Ds = np.diag(1/np.sqrt(d))\n",
        "  Di = np.diag(1/d)\n",
        "\n",
        "  # unnormalized laplacian \n",
        "  L = D - W \n",
        "  # eigens\n",
        "  ll, VV = np.linalg.eigh(L)\n",
        "  # sort the eigenvalues and vectors \n",
        "  idx = ll.argsort() \n",
        "  l = ll[idx]\n",
        "  V = VV[:, idx]\n",
        "\n",
        "  # Given an integer M >= 1 consider the Laplacian embedding \n",
        "  # where q_j denote the eigenvectors of the laplacian matrix. \n",
        "  F = V[:, 0:M] \n",
        "\n",
        "  # Given an integer J >= 1 consider the submatrix A and vector b \n",
        "  # consisting of the first J rows of F(X) and y.\n",
        "  A = F[0:J, 0:M] # first J rows, first M cols (top left block)\n",
        "  b = y[0:J] \n",
        "\n",
        "  # Use linear regression (least squares) to find beta_hat then \n",
        "  # take y_hat=sign(F(X)beta_hat) as predictor of classes of all points in X.\n",
        "  SSLLinear = LinearRegression(fit_intercept=False) \n",
        "  SSLLinear.fit(A, b)\n",
        "  beta_hat = SSLLinear.coef_ # coefs of linear regression \n",
        "  Fbeta_hat = np.dot(F, beta_hat)\n",
        "  y_hat =  np.sign(Fbeta_hat)\n",
        "  SSL_accuracy = 1 - (np.sum([y != y_hat]) / len(y))\n",
        "\n",
        "  return SSL_accuracy, beta_hat\n",
        "\n",
        "# Provide a table summarizing the accuracy of y_hat as your classifier for M=2,3,4,5,6 and J=5,10,20,40\n",
        "Ms = [2, 3, 4, 5, 6] # number of eigenvectors to use as feature maps in regression \n",
        "Js = [5, 10, 20, 40] # number of rows \n",
        "MJ = np.array([[0.0]*len(Js)]*len(Ms))\n",
        "for m, M in enumerate(Ms):\n",
        "  for j, J in enumerate(Js): \n",
        "    acc, beta = get_SSLLinear_accuracy(M, J, 1.16)\n",
        "    MJ[m,j] = acc\n",
        "\n",
        "MJ = pd.DataFrame(MJ)\n",
        "MJ.index = Ms\n",
        "MJ.columns = Js\n",
        "print(MJ)\n"
      ]
    },
    {
      "cell_type": "code",
      "execution_count": 6,
      "metadata": {
        "id": "CaVqrHDovRFA"
      },
      "outputs": [],
      "source": []
    }
  ],
  "metadata": {
    "colab": {
      "collapsed_sections": [],
      "name": "HW4_Helper.ipynb",
      "provenance": []
    },
    "kernelspec": {
      "display_name": "Python 3",
      "name": "python3"
    },
    "language_info": {
      "name": "python"
    }
  },
  "nbformat": 4,
  "nbformat_minor": 0
}
